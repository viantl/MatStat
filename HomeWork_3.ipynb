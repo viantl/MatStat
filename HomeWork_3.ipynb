{
 "cells": [
  {
   "cell_type": "code",
   "execution_count": 1,
   "id": "4c3117d8",
   "metadata": {},
   "outputs": [],
   "source": [
    "from math import factorial\n",
    "from math import exp"
   ]
  },
  {
   "cell_type": "code",
   "execution_count": 2,
   "id": "0446dcd5",
   "metadata": {},
   "outputs": [],
   "source": [
    "def combinations(n, k):\n",
    "    return int(factorial(n) / (factorial(k) * factorial(n - k)))"
   ]
  },
  {
   "cell_type": "markdown",
   "id": "791422de",
   "metadata": {},
   "source": [
    "### 1. Даны значения зарплат из выборки выпускников: 100, 80, 75, 77, 89, 33, 45, 25, 65, 17, 30, 24, 57, 55, 70, 75, 65, 84, 90, 150. Посчитать (желательно без использования статистических методов наподобие std, var, mean) среднее арифметическое, среднее квадратичное отклонение, смещенную и несмещенную оценки дисперсий для данной выборки"
   ]
  },
  {
   "cell_type": "code",
   "execution_count": 9,
   "id": "ebc7820b",
   "metadata": {},
   "outputs": [
    {
     "name": "stdout",
     "output_type": "stream",
     "text": [
      "\n",
      " среднее арифметическое: 65.3    \n",
      " среднеквадратичное отклонение (по смещенной дисперсии): 30.824    \n",
      " среднеквадратичное отклонение (по несмещенной дисперсии): 31.625    \n",
      " смещенная дисперсия: 950.11    \n",
      " несмещенная дисперсия: 1000.116\n"
     ]
    }
   ],
   "source": [
    "wages = [100, 80, 75, 77, 89, 33, 45, 25, 65, 17, 30, 24, 57, 55, 70, 75, 65, 84, 90, 150]\n",
    "wages = sorted(wages)\n",
    "\n",
    "ar_mean = sum(wages) / len(wages)\n",
    "\n",
    "sm_disp = sum([pow(i - ar_mean, 2) for i in wages]) /len(wages)\n",
    "nosm_disp = sum([pow(i - ar_mean, 2) for i in wages]) /(len(wages) - 1)\n",
    "\n",
    "sm_sqr = sm_disp**0.5\n",
    "nosm_sqr = nosm_disp**0.5\n",
    "\n",
    "print(f'\\n среднее арифметическое: {ar_mean}\\\n",
    "    \\n среднеквадратичное отклонение (по смещенной дисперсии): {round(sm_sqr,3)}\\\n",
    "    \\n среднеквадратичное отклонение (по несмещенной дисперсии): {round(nosm_sqr,3)}\\\n",
    "    \\n смещенная дисперсия: {sm_disp}\\\n",
    "    \\n несмещенная дисперсия: {round(nosm_disp,3)}')"
   ]
  },
  {
   "cell_type": "markdown",
   "id": "fbf8c497",
   "metadata": {},
   "source": [
    "### 2. В первом ящике находится 8 мячей, из которых 5 - белые. Во втором ящике - 12 мячей, из которых 5 белых. Из первого ящика вытаскивают случайным образом два мяча, из второго - 4. Какова вероятность того, что 3 мяча белые?"
   ]
  },
  {
   "cell_type": "code",
   "execution_count": 21,
   "id": "47c86717",
   "metadata": {},
   "outputs": [
    {
     "name": "stdout",
     "output_type": "stream",
     "text": [
      "\n",
      " Вероятность вытащить 3 белых мяча: 26.61%\n"
     ]
    }
   ],
   "source": [
    "P1 = (combinations(5, 2)/combinations(8, 2))*(combinations(5, 1)/combinations(12, 1))*(combinations(7, 3)/combinations(12, 3))\n",
    "P2 = (combinations(5, 1)*combinations(3, 1)/combinations(8, 2))*(combinations(5, 2)*combinations(7, 2)/combinations(12, 4))\n",
    "P3 = (combinations(3, 2)/combinations(8, 2))*(combinations(5, 3)*combinations(7, 1)/combinations(12, 4))\n",
    "P = P1+P2+P3\n",
    "print(f'\\n Вероятность вытащить 3 белых мяча: {round(P*100,2)}%')"
   ]
  },
  {
   "cell_type": "markdown",
   "id": "3ad71e89",
   "metadata": {},
   "source": [
    "### 3. На соревновании по биатлону один из трех спортсменов стреляет и попадает в мишень. Вероятность попадания для первого спортсмена равна 0.9, для второго — 0.8, для третьего — 0.6. Найти вероятность того, что выстрел произведен: a). первым спортсменом б). вторым спортсменом в). третьим спортсменом."
   ]
  },
  {
   "cell_type": "code",
   "execution_count": 32,
   "id": "22455d3a",
   "metadata": {},
   "outputs": [
    {
     "name": "stdout",
     "output_type": "stream",
     "text": [
      "\n",
      " Вероятность того, что выстрел произведён: \n",
      " -первым спортсменом: 39.13% \n",
      " -вторым спортсменом: 34.78% \n",
      " -третьим спортсменом: 26.09%\n"
     ]
    }
   ],
   "source": [
    "full_prob = 0.9/3 + 0.8/3 + 0.6/3\n",
    "p1 = (0.9/3) / full_prob\n",
    "p2 = (0.8/3) / full_prob\n",
    "p3 = (0.6/3) / full_prob\n",
    "print(f'\\n Вероятность того, что выстрел произведён: \\n -первым спортсменом: {round(p1*100,2)}% \\\n",
    "\\n -вторым спортсменом: {round(p2*100,2)}% \\\n",
    "\\n -третьим спортсменом: {round(p3*100,2)}%')"
   ]
  },
  {
   "cell_type": "markdown",
   "id": "728ce967",
   "metadata": {},
   "source": [
    "### 4. В университет на факультеты A и B поступило равное количество студентов, а на факультет C студентов поступило столько же, сколько на A и B вместе. Вероятность того, что студент факультета A сдаст первую сессию, равна 0.8. Для студента факультета B эта вероятность равна 0.7, а для студента факультета C - 0.9. Студент сдал первую сессию. Какова вероятность, что он учится: a). на факультете A б). на факультете B в). на факультете C?"
   ]
  },
  {
   "cell_type": "code",
   "execution_count": 41,
   "id": "cc595d5b",
   "metadata": {},
   "outputs": [
    {
     "name": "stdout",
     "output_type": "stream",
     "text": [
      "0.825\n"
     ]
    }
   ],
   "source": [
    "# вероятность того что случайный студент из факультета A\n",
    "QA = 0.25\n",
    "# вероятность того что случайный студент из факультета B\n",
    "QB = 0.25\n",
    "# вероятность того что случайный студент из факультета B\n",
    "QC = 0.5\n",
    "\n",
    "PA = 0.8\n",
    "PB = 0.7\n",
    "PC = 0.9\n",
    "\n",
    "# доля сдавших студентов от общего количества поступивших\n",
    "P_total = PA * QA + PB * QB + PC * QC\n",
    "print(P_total)"
   ]
  },
  {
   "cell_type": "code",
   "execution_count": 46,
   "id": "90fbe5a6",
   "metadata": {},
   "outputs": [
    {
     "name": "stdout",
     "output_type": "stream",
     "text": [
      "\n",
      " Вероятность того, что сдавший сессию студент учится на факультете: \n",
      " A: 24.24% \n",
      " B: 21.21% \n",
      " C: 54.55%\n"
     ]
    }
   ],
   "source": [
    "print(f'\\n Вероятность того, что сдавший сессию студент учится на факультете: \\n A: {round(PA * QA / P_total*100,2)}% \\\n",
    "\\n B: {round(PB * QB / P_total*100,2)}% \\\n",
    "\\n C: {round(PC * QC / P_total*100,2)}%')"
   ]
  },
  {
   "cell_type": "markdown",
   "id": "b08d351c",
   "metadata": {},
   "source": [
    "### 5) Устройство состоит из трех деталей. Для первой детали вероятность выйти из строя в первый месяц равна 0.1, для второй - 0.2, для третьей - 0.25. Какова вероятность того, что в первый месяц выйдут из строя: а). все детали б). только две детали в). хотя бы одна деталь г). от одной до двух деталей?"
   ]
  },
  {
   "cell_type": "code",
   "execution_count": 62,
   "id": "11353729",
   "metadata": {},
   "outputs": [
    {
     "name": "stdout",
     "output_type": "stream",
     "text": [
      " а) все детали - 0.5% \n",
      " б) только две детали - 8.0% \n",
      " в) хотя бы одна деталь - 46.0% \n",
      " г) от одной до двух деталей - 45.5%\n"
     ]
    }
   ],
   "source": [
    "p1 = 0.1\n",
    "p2 = 0.2\n",
    "p3 = 0.25\n",
    "\n",
    "pa = p1*p2*p3\n",
    "pb = (1-p1)*p2*p3+(1-p2)*p1*p3+(1-p3)*p2*p1\n",
    "pc = 1-(1-p1)*(1-p2)*(1-p3)\n",
    "pd = pc - pa\n",
    "\n",
    "print(f' а) все детали - {round(pa*100,2)}% \\\n",
    "\\n б) только две детали - {round(pb*100,2)}% \\\n",
    "\\n в) хотя бы одна деталь - {round(pc*100,2)}% \\\n",
    "\\n г) от одной до двух деталей - {round(pd*100,2)}%')"
   ]
  }
 ],
 "metadata": {
  "kernelspec": {
   "display_name": "Python 3 (ipykernel)",
   "language": "python",
   "name": "python3"
  },
  "language_info": {
   "codemirror_mode": {
    "name": "ipython",
    "version": 3
   },
   "file_extension": ".py",
   "mimetype": "text/x-python",
   "name": "python",
   "nbconvert_exporter": "python",
   "pygments_lexer": "ipython3",
   "version": "3.9.7"
  }
 },
 "nbformat": 4,
 "nbformat_minor": 5
}
