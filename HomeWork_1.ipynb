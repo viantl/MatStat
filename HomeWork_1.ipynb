{
 "cells": [
  {
   "cell_type": "code",
   "execution_count": 1,
   "id": "4c3117d8",
   "metadata": {},
   "outputs": [],
   "source": [
    "from math import factorial"
   ]
  },
  {
   "cell_type": "code",
   "execution_count": 2,
   "id": "0446dcd5",
   "metadata": {},
   "outputs": [],
   "source": [
    "def combinations(n, k):\n",
    "    return int(factorial(n) / (factorial(k) * factorial(n - k)))"
   ]
  },
  {
   "cell_type": "markdown",
   "id": "791422de",
   "metadata": {},
   "source": [
    "### 1. Из колоды в 52 карты извлекаются случайным образом 4 карты. a) Найти вероятность того, что все карты – крести. б) Найти вероятность, что среди 4-х карт окажется хотя бы один туз."
   ]
  },
  {
   "cell_type": "markdown",
   "id": "4a852549",
   "metadata": {},
   "source": [
    "а) Крести 4 шт. из 4 шт."
   ]
  },
  {
   "cell_type": "markdown",
   "id": "e032258b",
   "metadata": {},
   "source": [
    "Вытаскиваем 4 карты из 52 $$С_{52}^4$$ \n",
    "из 52 карт крести 13 шт $$С_{13}^4$$\n",
    "Из оставшихся 39 штук не берём ничего, но полагаю, что общее число положительных исходов должно составить $$С_{13}^4+С_{39}^0$$ $$С_{39}^0 = \\frac{39!}{0!(39 - 0)!} = 1$$"
   ]
  },
  {
   "cell_type": "code",
   "execution_count": 23,
   "id": "27e034f1",
   "metadata": {
    "scrolled": true
   },
   "outputs": [
    {
     "data": {
      "text/plain": [
       "0.8705061336640283"
      ]
     },
     "execution_count": 23,
     "metadata": {},
     "output_type": "execute_result"
    }
   ],
   "source": [
    "C1 = combinations(13, 4)\n",
    "C_all = combinations(39, 4)\n",
    "P = ((C1+1)/C_all)*100\n",
    "P"
   ]
  },
  {
   "cell_type": "markdown",
   "id": "06025e55",
   "metadata": {},
   "source": [
    "Вероятность достать 4 карты из 52 так, чтобы все были крести составляет 0,87%"
   ]
  },
  {
   "cell_type": "markdown",
   "id": "1bc9dbc5",
   "metadata": {},
   "source": [
    " б) Тузы $\\geq$ 1 шт. из 4 шт."
   ]
  },
  {
   "cell_type": "markdown",
   "id": "be87d12a",
   "metadata": {},
   "source": [
    "Общее число положительных исходов состоит из суммы сочетаний 1 туз из 4 карт, 2 туза из 4 карт, 3 туза из 4 карт, 4 туза из 4 карт $$C=C1+C2+C3+C4$$\n",
    "Общее число исходов $$С_{52}^4$$ \n",
    "Вероятность $$P = \\frac{C}{С_{52}^4}$$"
   ]
  },
  {
   "cell_type": "markdown",
   "id": "4d5fdb86",
   "metadata": {},
   "source": [
    "$$C1 = С_{4}^1\\cdot С_{48}^3$$"
   ]
  },
  {
   "cell_type": "markdown",
   "id": "34bdbeda",
   "metadata": {},
   "source": [
    "Колода из 52 карт состоит из 4 тузов и 48 других карт"
   ]
  },
  {
   "cell_type": "code",
   "execution_count": 24,
   "id": "5e2e5a09",
   "metadata": {
    "scrolled": true
   },
   "outputs": [
    {
     "data": {
      "text/plain": [
       "69184"
      ]
     },
     "execution_count": 24,
     "metadata": {},
     "output_type": "execute_result"
    }
   ],
   "source": [
    "C1=combinations(4, 1)*combinations(48, 3)\n",
    "C1"
   ]
  },
  {
   "cell_type": "markdown",
   "id": "c28f226d",
   "metadata": {},
   "source": [
    "$$C2 = С_{4}^2\\cdot С_{48}^2$$"
   ]
  },
  {
   "cell_type": "code",
   "execution_count": 25,
   "id": "50b7aed3",
   "metadata": {},
   "outputs": [
    {
     "data": {
      "text/plain": [
       "6768"
      ]
     },
     "execution_count": 25,
     "metadata": {},
     "output_type": "execute_result"
    }
   ],
   "source": [
    "C2=combinations(4, 2)*combinations(48, 2)\n",
    "C2"
   ]
  },
  {
   "cell_type": "markdown",
   "id": "934d8c0a",
   "metadata": {},
   "source": [
    "$$C3 = С_{4}^3\\cdot С_{48}^1$$"
   ]
  },
  {
   "cell_type": "code",
   "execution_count": 26,
   "id": "6ec0897f",
   "metadata": {},
   "outputs": [
    {
     "data": {
      "text/plain": [
       "192"
      ]
     },
     "execution_count": 26,
     "metadata": {},
     "output_type": "execute_result"
    }
   ],
   "source": [
    "C3=combinations(4, 3)*combinations(48, 1)\n",
    "C3"
   ]
  },
  {
   "cell_type": "markdown",
   "id": "133e6451",
   "metadata": {},
   "source": [
    "$$C4 = С_{4}^4\\cdot С_{48}^0$$"
   ]
  },
  {
   "cell_type": "code",
   "execution_count": 18,
   "id": "83456ca5",
   "metadata": {},
   "outputs": [
    {
     "data": {
      "text/plain": [
       "1"
      ]
     },
     "execution_count": 18,
     "metadata": {},
     "output_type": "execute_result"
    }
   ],
   "source": [
    "C4=1*1\n",
    "C4"
   ]
  },
  {
   "cell_type": "code",
   "execution_count": 27,
   "id": "a7df44f9",
   "metadata": {
    "scrolled": true
   },
   "outputs": [
    {
     "data": {
      "text/plain": [
       "28.126327454058547"
      ]
     },
     "execution_count": 27,
     "metadata": {},
     "output_type": "execute_result"
    }
   ],
   "source": [
    "P = ((C1+C2+C3+C4)/combinations(52, 4))*100\n",
    "P"
   ]
  },
  {
   "cell_type": "markdown",
   "id": "d8146ea7",
   "metadata": {},
   "source": [
    "Вероятность достать 4 карты из 52 так, чтобы все хотя бы 1 из них был туз составляет 28%"
   ]
  },
  {
   "cell_type": "markdown",
   "id": "fbf8c497",
   "metadata": {},
   "source": [
    "### 2. На входной двери подъезда установлен кодовый замок, содержащий десять кнопок с цифрами от 0 до 9. Код содержит 3 цифры, которые нужно нажать одновременно. Какова вероятность того, что человек, не знающий код, откроет дверь с первой попытки?"
   ]
  },
  {
   "cell_type": "markdown",
   "id": "c92f1258",
   "metadata": {},
   "source": [
    "Положительный исход 1.\n",
    "Всего вариантов сочетания 3 цифр из 10: $$С_{10}^3$$ "
   ]
  },
  {
   "cell_type": "code",
   "execution_count": 29,
   "id": "72fd5bec",
   "metadata": {
    "scrolled": true
   },
   "outputs": [
    {
     "data": {
      "text/plain": [
       "0.8333333333333334"
      ]
     },
     "execution_count": 29,
     "metadata": {},
     "output_type": "execute_result"
    }
   ],
   "source": [
    "P=(1/combinations(10, 3))*100\n",
    "P"
   ]
  },
  {
   "cell_type": "markdown",
   "id": "3ad71e89",
   "metadata": {},
   "source": [
    "### 3. В ящике имеется 15 деталей, из которых 9 окрашены. Рабочий случайным образом извлекает 3 детали. Какова вероятность того, что все извлеченные детали окрашены?"
   ]
  },
  {
   "cell_type": "markdown",
   "id": "60c39f48",
   "metadata": {},
   "source": [
    "Положительных исходов : $$С_{9}^3$$ \n",
    "Всего способов извлечения 3 деталей из 15: $$С_{15}^3$$ "
   ]
  },
  {
   "cell_type": "code",
   "execution_count": 31,
   "id": "dafc44cf",
   "metadata": {},
   "outputs": [
    {
     "data": {
      "text/plain": [
       "18.461538461538463"
      ]
     },
     "execution_count": 31,
     "metadata": {},
     "output_type": "execute_result"
    }
   ],
   "source": [
    "P = (combinations(9, 3)/combinations(15, 3))*100\n",
    "P"
   ]
  },
  {
   "cell_type": "markdown",
   "id": "0d56a508",
   "metadata": {},
   "source": [
    "Вероятность достать 3 окрашенных детали из 15 при условии, что всего 9 деталей окрашено, составляет 18%"
   ]
  },
  {
   "cell_type": "markdown",
   "id": "728ce967",
   "metadata": {},
   "source": [
    "### 4. В лотерее 100 билетов. Из них 2 выигрышных. Какова вероятность того, что 2 приобретенных билета окажутся выигрышными? "
   ]
  },
  {
   "cell_type": "markdown",
   "id": "b65e2538",
   "metadata": {},
   "source": [
    "Положительных исходов : $$С_{2}^2$$ \n",
    "Всего способов достать 2 билета из 100: $$С_{100}^2$$ "
   ]
  },
  {
   "cell_type": "code",
   "execution_count": 32,
   "id": "532f19ce",
   "metadata": {
    "scrolled": true
   },
   "outputs": [
    {
     "data": {
      "text/plain": [
       "0.0202020202020202"
      ]
     },
     "execution_count": 32,
     "metadata": {},
     "output_type": "execute_result"
    }
   ],
   "source": [
    "P = (combinations(2, 2)/combinations(100, 2))*100\n",
    "P"
   ]
  },
  {
   "cell_type": "markdown",
   "id": "396e8c91",
   "metadata": {},
   "source": [
    "Вероятность достать 2 выигрышных билета из общего количества 100 билетов при 2 выигрышных, составляет 0,02%"
   ]
  }
 ],
 "metadata": {
  "kernelspec": {
   "display_name": "Python 3 (ipykernel)",
   "language": "python",
   "name": "python3"
  },
  "language_info": {
   "codemirror_mode": {
    "name": "ipython",
    "version": 3
   },
   "file_extension": ".py",
   "mimetype": "text/x-python",
   "name": "python",
   "nbconvert_exporter": "python",
   "pygments_lexer": "ipython3",
   "version": "3.9.7"
  }
 },
 "nbformat": 4,
 "nbformat_minor": 5
}
