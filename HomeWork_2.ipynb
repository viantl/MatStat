{
 "cells": [
  {
   "cell_type": "code",
   "execution_count": 15,
   "id": "4c3117d8",
   "metadata": {},
   "outputs": [],
   "source": [
    "from math import factorial\n",
    "from math import exp"
   ]
  },
  {
   "cell_type": "code",
   "execution_count": 5,
   "id": "0446dcd5",
   "metadata": {},
   "outputs": [],
   "source": [
    "def combinations(n, k):\n",
    "    return int(factorial(n) / (factorial(k) * factorial(n - k)))"
   ]
  },
  {
   "cell_type": "markdown",
   "id": "791422de",
   "metadata": {},
   "source": [
    "### 1. Вероятность того, что стрелок попадет в мишень, выстрелив один раз, равна 0.8. Стрелок выстрелил 100 раз. Найдите вероятность того, что стрелок попадет в цель ровно 85 раз."
   ]
  },
  {
   "cell_type": "code",
   "execution_count": 6,
   "id": "6a3f4583",
   "metadata": {},
   "outputs": [],
   "source": [
    "p=0.8\n",
    "n=100\n",
    "k=85"
   ]
  },
  {
   "cell_type": "code",
   "execution_count": 9,
   "id": "96e92cf7",
   "metadata": {
    "scrolled": true
   },
   "outputs": [
    {
     "data": {
      "text/plain": [
       "0.048061793700746355"
      ]
     },
     "execution_count": 9,
     "metadata": {},
     "output_type": "execute_result"
    }
   ],
   "source": [
    "P = combinations(n, k)*p**85*(1-p)**(n-k)\n",
    "P"
   ]
  },
  {
   "cell_type": "markdown",
   "id": "fbf8c497",
   "metadata": {},
   "source": [
    "### 2. Вероятность того, что лампочка перегорит в течение первого дня эксплуатации, равна 0.0004. В жилом комплексе после ремонта в один день включили 5000 новых лампочек. Какова вероятность, что ни одна из них не перегорит в первый день? Какова вероятность, что перегорят ровно две?"
   ]
  },
  {
   "cell_type": "code",
   "execution_count": 24,
   "id": "0846acab",
   "metadata": {},
   "outputs": [],
   "source": [
    "def puass(p, n, m):\n",
    "    lmd = p * n\n",
    "    return lmd**m/factorial(m) * exp(-lmd)"
   ]
  },
  {
   "cell_type": "code",
   "execution_count": 22,
   "id": "49651038",
   "metadata": {},
   "outputs": [],
   "source": [
    "p=0.0004\n",
    "n=5000"
   ]
  },
  {
   "cell_type": "code",
   "execution_count": 27,
   "id": "1eb0045f",
   "metadata": {},
   "outputs": [
    {
     "data": {
      "text/plain": [
       "0.1353352832366127"
      ]
     },
     "execution_count": 27,
     "metadata": {},
     "output_type": "execute_result"
    }
   ],
   "source": [
    "m = 0\n",
    "p_m = puass(p, n, m)\n",
    "p_m"
   ]
  },
  {
   "cell_type": "code",
   "execution_count": 30,
   "id": "7bcd876b",
   "metadata": {},
   "outputs": [
    {
     "data": {
      "text/plain": [
       "0.2706705664732254"
      ]
     },
     "execution_count": 30,
     "metadata": {},
     "output_type": "execute_result"
    }
   ],
   "source": [
    "m = 2\n",
    "p_m = puass(p, n, m)\n",
    "p_m"
   ]
  },
  {
   "cell_type": "markdown",
   "id": "3ad71e89",
   "metadata": {},
   "source": [
    "### 3. Монету подбросили 144 раза. Какова вероятность, что орел выпадет ровно 70 раз?"
   ]
  },
  {
   "cell_type": "code",
   "execution_count": 34,
   "id": "4b65888d",
   "metadata": {},
   "outputs": [],
   "source": [
    "p = 0.5\n",
    "q = 0.5\n",
    "n = 144\n",
    "k = 70"
   ]
  },
  {
   "cell_type": "code",
   "execution_count": 35,
   "id": "dafc44cf",
   "metadata": {},
   "outputs": [
    {
     "data": {
      "text/plain": [
       "0.06281178035144776"
      ]
     },
     "execution_count": 35,
     "metadata": {},
     "output_type": "execute_result"
    }
   ],
   "source": [
    "P_70 = combinations(n, k)*p**k*q**(n-k)\n",
    "P_70"
   ]
  },
  {
   "cell_type": "markdown",
   "id": "728ce967",
   "metadata": {},
   "source": [
    "### 4. В первом ящике находится 10 мячей, из которых 7 - белые. Во втором ящике - 11 мячей, из которых 9 белых. Из каждого ящика вытаскивают случайным образом по два мяча. Какова вероятность того, что все мячи белые? Какова вероятность того, что ровно два мяча белые? Какова вероятность того, что хотя бы один мяч белый?"
   ]
  },
  {
   "cell_type": "markdown",
   "id": "b65e2538",
   "metadata": {},
   "source": [
    "#### 1)\n",
    "2 белых из первого ящика: $$P_{1} = \\frac{7}{10}\\cdot \\frac{6}{9} = \\frac {7}{15} $$ \n",
    "2 белых из второго ящика: $$P_{2} = \\frac{9}{11}\\cdot \\frac{8}{10} = \\frac {36}{55} $$ \n",
    "$$P_{4белых} = \\frac{7}{15}\\cdot \\frac{36}{55} = \\frac {84}{275} $$ "
   ]
  },
  {
   "cell_type": "markdown",
   "id": "b1325561",
   "metadata": {},
   "source": [
    "#### 2)\n",
    "2 белых из первого ящика, 2 не белых - из второго: $$P_{1} = \\frac{7}{15}\\cdot \\frac{2}{11}\\cdot \\frac{1}{10} = \\frac {7}{825} $$ \n",
    "2 не белых из первого ящика, 2 белых - из второго: $$P_{2} = \\frac{3}{10}\\cdot \\frac{2}{9}\\cdot \\frac{36}{55} = \\frac {36}{825}  $$ \n",
    "1 белый из первого ящика, 1 белый - из второго: $$P_{3} = \\frac{7}{10}\\cdot \\frac{3}{9}\\cdot \\frac{9}{11}\\cdot \\frac{2}{10} = \\frac {21}{550}  $$ \n",
    "$$P_{2белых} = P_{1}+P_{2}+P_{3} = \\frac{7}{825} + \\frac{36}{825} + \\frac{21}{550} = 0,0903 $$ "
   ]
  },
  {
   "cell_type": "markdown",
   "id": "cc36c7b1",
   "metadata": {},
   "source": [
    "#### 3)\n",
    "2 не белых из первого ящика, 2 не белых - из второго: $$\\overline P = \\frac{3}{10}\\cdot \\frac{2}{9}\\cdot \\frac{2}{11}\\cdot \\frac{1}{10} = \\frac {1}{825} $$ \n",
    "$$P = 1-\\overline P = \\frac{824}{825} $$ "
   ]
  }
 ],
 "metadata": {
  "kernelspec": {
   "display_name": "Python 3 (ipykernel)",
   "language": "python",
   "name": "python3"
  },
  "language_info": {
   "codemirror_mode": {
    "name": "ipython",
    "version": 3
   },
   "file_extension": ".py",
   "mimetype": "text/x-python",
   "name": "python",
   "nbconvert_exporter": "python",
   "pygments_lexer": "ipython3",
   "version": "3.9.7"
  }
 },
 "nbformat": 4,
 "nbformat_minor": 5
}
